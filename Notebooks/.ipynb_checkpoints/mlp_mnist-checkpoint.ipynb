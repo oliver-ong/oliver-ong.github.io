{
 "cells": [
  {
   "cell_type": "code",
   "execution_count": 5,
   "metadata": {},
   "outputs": [],
   "source": [
    "import os \n",
    "import numpy as np \n",
    "import tensorflow as tf\n",
    "import pandas as pd\n",
    "import time\n",
    "from imageio import imread\n",
    "from sklearn.metrics import accuracy_score \n",
    "from matplotlib import pyplot as plt"
   ]
  },
  {
   "cell_type": "markdown",
   "metadata": {},
   "source": [
    "## Setting directories "
   ]
  },
  {
   "cell_type": "code",
   "execution_count": 6,
   "metadata": {},
   "outputs": [],
   "source": [
    "# Set directories and check for existance\n",
    "root_dir = os.path.abspath('D:\\Portfolio')\n",
    "data_dir = os.path.join(root_dir,'data\\MNIST')\n",
    "\n",
    "assert os.path.exists(root_dir) == True and os.path.exists(data_dir) == True"
   ]
  },
  {
   "cell_type": "markdown",
   "metadata": {},
   "source": [
    "## Dataset information \n",
    "\n",
    "This dataset used in this project is a subset of the [MNIST](http://yann.lecun.com/exdb/mnist/) (Modified National Institute of Standards and Technology) database developed by Yann LeCun, Corina Cortes, and Christopher Burger. This popular database holds a large collection of handwritten digits commonly used to train image processing systems, or in our case, train a neural network for OCR (optical character recognition) applications. \n",
    "\n",
    "The [dataset](https://datahack.analyticsvidhya.com/contest/practice-problem-identify-the-digits/) contains a total of 70,000 black and white handwritten digits in a 28x28 pixel image. These images are split into 49,000 training (labeled) and 21,000 test images (unlabeled). \n",
    "\n",
    "The .csv files contain the filenames and as well as their associated labels. \n"
   ]
  },
  {
   "cell_type": "code",
   "execution_count": 7,
   "metadata": {},
   "outputs": [
    {
     "name": "stdout",
     "output_type": "stream",
     "text": [
      "  filename  label\n",
      "0    0.png      4\n",
      "1    1.png      9\n",
      "2    2.png      1\n",
      "3    3.png      7\n",
      "4    4.png      3\n"
     ]
    }
   ],
   "source": [
    "# Load training and test data\n",
    "train = pd.read_csv(os.path.join(data_dir,'train.csv'))\n",
    "test = pd.read_csv(os.path.join(data_dir,'test.csv'))\n",
    "\n",
    "print(train.head())"
   ]
  },
  {
   "cell_type": "markdown",
   "metadata": {},
   "source": [
    "Image data is loaded into a (2,22,n) size matrix in grayscale values, which corresponds to values of 0 as white and 255 as black. Files are iterated over and temporarily stored as a dictionary before converted into a numpy array. \n"
   ]
  },
  {
   "cell_type": "code",
   "execution_count": 8,
   "metadata": {},
   "outputs": [
    {
     "name": "stdout",
     "output_type": "stream",
     "text": [
      "Filename: 3868.png\n"
     ]
    },
    {
     "data": {
      "text/plain": [
       "<matplotlib.image.AxesImage at 0x2251dfa6518>"
      ]
     },
     "execution_count": 8,
     "metadata": {},
     "output_type": "execute_result"
    },
    {
     "data": {
      "image/png": "[encoded data removed]",
      "text/plain": [
       "<Figure size 432x288 with 1 Axes>"
      ]
     },
     "metadata": {
      "needs_background": "light"
     },
     "output_type": "display_data"
    }
   ],
   "source": [
    "# # Training images\n",
    "temp = []\n",
    "for img_name in train.filename:\n",
    "    img_path = os.path.join(data_dir,'Images\\\\train',img_name)\n",
    "    img = imread(img_path, as_gray = True)\n",
    "    img = img.astype('float32')\n",
    "    temp.append(img)\n",
    " \n",
    "train_mat = np.stack(temp)\n",
    "\n",
    "# Test images\n",
    "temp = []\n",
    "for img_name in test.filename:\n",
    "    img_path = os.path.join(data_dir,'Images\\\\test',img_name)\n",
    "    img = imread(img_path, as_gray = True)\n",
    "    img = img.astype('float32')\n",
    "    temp.append(img)\n",
    "\n",
    "test_mat = np.stack(temp)\n",
    "\n",
    "# View random image for example\n",
    "img_name = np.random.RandomState().choice(train.filename)\n",
    "img_path = os.path.join(data_dir,'Images\\\\train',img_name)\n",
    "\n",
    "img = imread(img_path)\n",
    "\n",
    "print('Filename:',img_name)\n",
    "plt.imshow(img, cmap = 'gray')"
   ]
  },
  {
   "cell_type": "markdown",
   "metadata": {},
   "source": [
    "The dataset is then split into subsets for the purposes of training and validating the neural network. Here, we use a ratio of 70:30 "
   ]
  },
  {
   "cell_type": "code",
   "execution_count": 9,
   "metadata": {},
   "outputs": [],
   "source": [
    "val_frac = int(train_mat.shape[0]*0.7)\n",
    "\n",
    "train_x, val_x = train_mat[:val_frac], train_mat[val_frac:]\n",
    "train_y, val_y = train.label.values[:val_frac], train.label.values[val_frac:]"
   ]
  },
  {
   "cell_type": "markdown",
   "metadata": {},
   "source": [
    "## Defining the neural network architecture \n",
    "\n",
    "Here, we define the architecture for the neural network. Nodes for the input and output layers are determined by the structure of the input (28x28 = 784 pixels) and output (10 categories) data, respectively. For the hidden layer, 256 nodes are used. \n",
    "\n",
    "Training data is fed into the neural network in mini-batches of size 128. Compared to the traditional method of feeding images into our model one-by-one (stochastic gradient descent), the mini-batch method has several advantages which include: faster computation times and the prevention of the model from converging onto local minima of the loss function. \n",
    "\n",
    "For the single hidden layer, the ReLu activation function is used for a multitude of reasons (see https://bit.ly/2wv3kcd). The softmax function is used for the output layer due to the multi-class nature of this model. "
   ]
  },
  {
   "cell_type": "code",
   "execution_count": 10,
   "metadata": {},
   "outputs": [],
   "source": [
    "# Number of nodes in each layer \n",
    "n_input = 28*28\n",
    "n_hidden = 256\n",
    "n_output = 10\n",
    "\n",
    "# Initialize placeholders\n",
    "x = tf.placeholder(tf.float32, [None, n_input])\n",
    "y = tf.placeholder(tf.float32, [None, n_output])\n",
    "\n",
    "# Learning variables \n",
    "learning_rate = 0.01\n",
    "epochs = 10\n",
    "n_batch = 128\n",
    "\n",
    "\n",
    "# Define weights and biases of NN \n",
    "weights = {\n",
    "        'hidden': tf.Variable(tf.random_normal([n_input, n_hidden])),\n",
    "        'output': tf.Variable(tf.random_normal([n_hidden, n_output]))}\n",
    "\n",
    "biases = {\n",
    "        'hidden': tf.Variable(tf.random_normal([n_hidden])),\n",
    "        'output': tf.Variable(tf.random_normal([n_output]))}\n",
    "\n",
    "# Define computation graphs \n",
    "hidden_layer = tf.add(tf.matmul(x, weights['hidden']), biases['hidden'])\n",
    "hidden_layer = tf.nn.relu(hidden_layer)\n",
    "\n",
    "output_layer = tf.matmul(hidden_layer, weights['output']) + biases['output']\n",
    "\n",
    "# Define loss function  \n",
    "loss = tf.reduce_mean(tf.nn.softmax_cross_entropy_with_logits_v2(labels = y, logits = output_layer))\n",
    "\n",
    "# Set optimizer for loss function  \n",
    "optimizer = tf.train.AdamOptimizer(learning_rate = learning_rate).minimize(loss)"
   ]
  },
  {
   "cell_type": "markdown",
   "metadata": {},
   "source": [
    "## Helper functions\n",
    "\n",
    "Before we initialize our training cycle, we first need to define two helper functions. The first function scal_2_onehot is used to encode the labels as one-hot vectors. Typically, this step is needed to convert categorical variables into numerical values for input into the machine learning model. In our case, the categorical variables are labels ranging from 0 to 9, meaning that our labelled data is inherently scalar encoded. This is something we would ideally like to avoid as the neural network may intepret the labels as different weights. Encoding the labelled data as one-hot vectors allows us to assume each category has equal weight and ensures it has no affect on the calculation of the loss function during the backpropagation step of the neural network. Note that TensorFlow has a function to do this, however it is quite computationally inefficient to evaluate the object during the session. \n",
    "\n",
    "The second function is used to create batches to feed the input data into the neural network. \n"
   ]
  },
  {
   "cell_type": "code",
   "execution_count": 11,
   "metadata": {},
   "outputs": [],
   "source": [
    "def scal_2_onehot(scal, n_classes):\n",
    "    \"Convert scalars to one-hot vectors\"\n",
    "    \n",
    "    n_labels = scal.shape[0]\n",
    "    ind_offset = np.arange(0,n_labels)* n_classes\n",
    "    one_hot = np.zeros((n_labels, n_classes))\n",
    "    one_hot.flat[ind_offset + scal.ravel()] = 1\n",
    "\n",
    "    return one_hot\n",
    "\n",
    "\n",
    "def make_batch(n_batch, n_input, n_output, train_x, train_y):\n",
    "    \"Create batch with random samples in one-hot vectors\"\n",
    "    \n",
    "    batch_mask = np.random.RandomState().choice(train_x.shape[0], n_batch)\n",
    "    \n",
    "    batch_x = train_x[batch_mask].reshape(-1,n_input)\n",
    "    batch_x = batch_x / batch_x.max()\n",
    "    \n",
    "    batch_y = scal_2_onehot(train_y[batch_mask], n_output)\n",
    "    \n",
    "    return batch_x, batch_y "
   ]
  },
  {
   "cell_type": "markdown",
   "metadata": {},
   "source": [
    "## Training session \n",
    "\n",
    "Finally, we can train our model and test it using the validation dataset! "
   ]
  },
  {
   "cell_type": "code",
   "execution_count": 12,
   "metadata": {},
   "outputs": [
    {
     "name": "stdout",
     "output_type": "stream",
     "text": [
      "Training in process...\n",
      "\n",
      "Epoch (1/10):\n",
      " Training loss = 5.92429\n",
      "Epoch (2/10):\n",
      " Training loss = 1.15539\n",
      "Epoch (3/10):\n",
      " Training loss = 0.63891\n",
      "Epoch (4/10):\n",
      " Training loss = 0.33832\n",
      "Epoch (5/10):\n",
      " Training loss = 0.21810\n",
      "Epoch (6/10):\n",
      " Training loss = 0.19556\n",
      "Epoch (7/10):\n",
      " Training loss = 0.15259\n",
      "Epoch (8/10):\n",
      " Training loss = 0.13901\n",
      "Epoch (9/10):\n",
      " Training loss = 0.14284\n",
      "Epoch (10/10):\n",
      " Training loss = 0.13190\n",
      "\n",
      "Training complete\n",
      "Validation Accuracy: 0.954966\n",
      "Computation time: 00:00:08\n"
     ]
    }
   ],
   "source": [
    "t_start = time.clock()\n",
    "\n",
    "init = tf.global_variables_initializer()\n",
    "\n",
    "with tf.Session() as sess:\n",
    "    # create initialized variables \n",
    "    sess.run(init)\n",
    "    \n",
    "    print('Training in process...\\n')\n",
    "\n",
    "    \n",
    "    for j in range(epochs):\n",
    "        avg_loss = 0\n",
    "        total_batch = int(train.shape[0]/n_batch)\n",
    "        for i in range(total_batch):\n",
    "            batch_x, batch_y = make_batch(n_batch, n_input, n_output, train_x, train_y)\n",
    "            _, c = sess.run([optimizer, loss], feed_dict = {x: batch_x, y: batch_y})\n",
    "            \n",
    "            avg_loss += c / total_batch\n",
    "            \n",
    "        print('Epoch', '(' + str(j + 1) + '/' + str(epochs) + '):\\n', \n",
    "              'Training loss =', '{:.5f}'.format(avg_loss))\n",
    "        \n",
    "    t_comput = time.clock() - t_start\n",
    "    \n",
    "    # Test predictions on validation data \n",
    "    pred_temp = tf.equal(tf.argmax(output_layer, 1), tf.argmax(y,1))\n",
    "    accuracy = tf.reduce_mean(tf.cast(pred_temp, 'float'))\n",
    "    \n",
    "    print('\\nTraining complete\\n' + 'Validation Accuracy:', \n",
    "          accuracy.eval({x: val_x.reshape(-1, n_input), y: scal_2_onehot(val_y, n_output)}))\n",
    "    \n",
    "    print('Computation time:', time.strftime('%H:%M:%S',time.gmtime(t_comput)))\n",
    "    \n",
    "    # Find predictions on test data\n",
    "    predict = tf.argmax(output_layer, 1)\n",
    "    pred = predict.eval({x: test_mat.reshape(-1, n_input)})"
   ]
  },
  {
   "cell_type": "markdown",
   "metadata": {},
   "source": [
    "## Model predictions of test data "
   ]
  },
  {
   "cell_type": "code",
   "execution_count": 13,
   "metadata": {},
   "outputs": [
    {
     "name": "stdout",
     "output_type": "stream",
     "text": [
      "\n",
      "Prediction is the number 2\n"
     ]
    },
    {
     "data": {
      "image/png": "[encoded data removed]",
      "text/plain": [
       "<Figure size 432x288 with 1 Axes>"
      ]
     },
     "metadata": {
      "needs_background": "light"
     },
     "output_type": "display_data"
    }
   ],
   "source": [
    "# test model on single image\n",
    "rng = np.random.randint(0,test_mat.shape[0])\n",
    "test_img = test_mat[rng,:,:]\n",
    "plt.imshow(test_img,cmap = 'gray')\n",
    "print('\\nPrediction is the number',pred[rng])"
   ]
  }
 ],
 "metadata": {
  "kernelspec": {
   "display_name": "Python 3",
   "language": "python",
   "name": "python3"
  },
  "language_info": {
   "codemirror_mode": {
    "name": "ipython",
    "version": 3
   },
   "file_extension": ".py",
   "mimetype": "text/x-python",
   "name": "python",
   "nbconvert_exporter": "python",
   "pygments_lexer": "ipython3",
   "version": "3.5.6"
  }
 },
 "nbformat": 4,
 "nbformat_minor": 2
}
